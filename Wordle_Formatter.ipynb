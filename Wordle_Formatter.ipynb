{
  "nbformat": 4,
  "nbformat_minor": 0,
  "metadata": {
    "colab": {
      "name": "Wordle Formatter",
      "provenance": [],
      "collapsed_sections": []
    },
    "kernelspec": {
      "name": "python3",
      "display_name": "Python 3"
    },
    "language_info": {
      "name": "python"
    }
  },
  "cells": [
    {
      "cell_type": "code",
      "source": [
        "import itertools"
      ],
      "metadata": {
        "id": "5IRS-bzS_sAP"
      },
      "execution_count": null,
      "outputs": []
    },
    {
      "cell_type": "code",
      "source": [
        "class Wordle:\n",
        "    def __init__(self, len_of_word = 5):\n",
        "        self.len_of_word = len_of_word\n",
        "        self.letter_array = [['_'] for x in range(len_of_word)]\n",
        "        # indices that are still not green and thus not locked in   \n",
        "        self.open_indices = [x for x in range(len_of_word)]\n",
        "\n",
        "    def clean_letter_array(self):\n",
        "        '''\n",
        "        Clean letter array of duplicates\n",
        "        '''\n",
        "        for ind, letters_list in enumerate(self.letter_array[:]):\n",
        "            self.letter_array[ind] = list(set(letters_list))\n",
        "\n",
        "    def enter_guess(self, string):\n",
        "        '''\n",
        "        Based on entry of string, update the letter_array\n",
        "\n",
        "        Input green letters as uppercase and yellow letters as lowercase\n",
        "\n",
        "        For _iN_c:\n",
        "        -add i as valid letter to indices 0,2,3,4\n",
        "        -Update index 2 to contain only N\n",
        "        -add c as valid letter to indices 0,1,2,3\n",
        "        '''\n",
        "        if len(string) != self.len_of_word:\n",
        "            raise Exception(f'Length of entry should be {self.len_of_word}')\n",
        "\n",
        "        wordle_line = list(string)\n",
        "\n",
        "        for idx, letter in enumerate(string):\n",
        "            if letter.isupper():\n",
        "                self.letter_array[idx] = [letter]\n",
        "                try:\n",
        "                    self.open_indices.remove(idx)\n",
        "                except ValueError:\n",
        "                    pass\n",
        "\n",
        "            elif letter.islower():\n",
        "                try:\n",
        "                    indices_to_add_letter = self.open_indices[:]\n",
        "                    indices_to_add_letter.remove(idx)\n",
        "                except:\n",
        "                    pass\n",
        "                for ind in indices_to_add_letter:\n",
        "                    self.letter_array[ind].append(letter)\n",
        "\n",
        "            elif letter == '_':\n",
        "                pass\n",
        "\n",
        "            else:\n",
        "                raise Exception(\"Invalid letter or symbol in entry\")\n",
        "        \n",
        "        # check each letter_list for duplicates and clean\n",
        "        self.clean_letter_array()\n",
        "\n",
        "    def print_combinations(self):\n",
        "        '''\n",
        "        Print all possible permutations based on entries so far\n",
        "        '''\n",
        "        all_permutations = list(itertools.product(*self.letter_array))\n",
        "        # however, the function above does all permuations\n",
        "        # ex. if an m is used once in index 0, it shouldn't show up anywhere else\n",
        "\n",
        "        letter_bag = list(set(itertools.chain.from_iterable(self.letter_array)))\n",
        "        # in case there were more than 1 '_'\n",
        "        if len(letter_bag) < self.len_of_word:\n",
        "            for i in range(self.len_of_word - len(letter_bag)):\n",
        "                letter_bag.append('_')\n",
        "\n",
        "        for permutation in all_permutations: \n",
        "            if sorted(letter_bag) == sorted(permutation):\n",
        "                print(''.join(permutation).upper())\n"
      ],
      "metadata": {
        "id": "pWF63MbQ4xwM"
      },
      "execution_count": 53,
      "outputs": []
    },
    {
      "cell_type": "code",
      "source": [
        "feb2 = Wordle()\n",
        "feb2.enter_guess('__oS_')\n",
        "feb2.enter_guess('__ti_')\n",
        "feb2.print_combinations()"
      ],
      "metadata": {
        "colab": {
          "base_uri": "https://localhost:8080/"
        },
        "id": "sigzdXviA_Xq",
        "outputId": "79e9c813-21b6-4f2b-e534-5e2e382878df"
      },
      "execution_count": 54,
      "outputs": [
        {
          "output_type": "stream",
          "name": "stdout",
          "text": [
            "IT_SO\n",
            "IO_ST\n",
            "TI_SO\n",
            "TOIS_\n",
            "TO_SI\n",
            "T_ISO\n",
            "OI_ST\n",
            "OTIS_\n",
            "OT_SI\n",
            "O_IST\n",
            "_TISO\n",
            "_OIST\n"
          ]
        }
      ]
    }
  ]
}